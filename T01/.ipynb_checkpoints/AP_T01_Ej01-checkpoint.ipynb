{
 "cells": [
  {
   "cell_type": "markdown",
   "metadata": {},
   "source": [
    "# 1. Red de unidades de umbral lineal\n",
    "\n",
    "Programa y evalua una red de neuronas con funciones de activación escalon unitario que aproxime la operaión XNOR dada por:\n",
    "\n",
    "| x1 | x2 | XNOR |\n",
    "| --- | --- | --- |\n",
    "| 0 | 0 | 1 |\n",
    "| 0 | 1 | 0 |\n",
    "| 1 | 0 | 0 |\n",
    "| 1 | 1 | 1 |\n",
    "\n",
    "La operación XNOR se puede expresar como:\n",
    "$$ XNOR(x_1,x_2) = OR(NOT(OR(x_1,x_2)),AND(x_1,x_2)) $$\n",
    "\n",
    "Por lo que se puede modelar como:\n",
    "\n",
    "<img src=\"XNOR.png\">"
   ]
  },
  {
   "cell_type": "code",
   "execution_count": 1,
   "metadata": {},
   "outputs": [],
   "source": [
    "import numpy as np\n",
    "from tqdm import tqdm"
   ]
  },
  {
   "cell_type": "code",
   "execution_count": 2,
   "metadata": {},
   "outputs": [],
   "source": [
    "class Perceptron:\n",
    "    # Suma ponderada con pesos y sesgo #\n",
    "    def _weighted_sum(self, x, w, b):\n",
    "        return np.dot(w.T, x) + b\n",
    "    \n",
    "    # Activación de la neurona mediante escalon unitario #\n",
    "    def _activation(self, z):\n",
    "        return np.heaviside(z,0)\n",
    "    \n",
    "    # Entrenamiento mediante regla de aprendizaje del perceptrón #\n",
    "    def fit(self, x, y, epochs=10):\n",
    "        self.w = np.zeros(x.shape[1])\n",
    "        self.b = 0\n",
    "        for i in tqdm(range(epochs)):\n",
    "            for j in range(x.shape[0]):\n",
    "                z = self._weighted_sum(x[j], self.w, self.b)\n",
    "                y_hat = self._activation(z)\n",
    "                error = y[j] - y_hat\n",
    "                self.w += error * x[j]     \n",
    "                self.b += error\n",
    "    \n",
    "    def predict(self, x):\n",
    "        return self._activation(self._weighted_sum(x, self.w, self.b))\n",
    "    \n",
    "    def get_weights_and_bias(self):\n",
    "        return self.w, self.b"
   ]
  },
  {
   "cell_type": "markdown",
   "metadata": {},
   "source": [
    "### Definición de entradas y salidas"
   ]
  },
  {
   "cell_type": "code",
   "execution_count": 3,
   "metadata": {},
   "outputs": [],
   "source": [
    "X = np.array([[0., 0.], [0., 1.], [1., 0.], [1., 1.]])\n",
    "X_not = np.array([[0.], [1.]])\n",
    "\n",
    "y_or = np.array([0., 1., 1., 1.])\n",
    "y_and = np.array([0., 0., 0., 1.])\n",
    "y_not = np.array([1., 0.])\n",
    "y_xnor = np.array([1., 0., 0., 1.])"
   ]
  },
  {
   "cell_type": "markdown",
   "metadata": {},
   "source": [
    "### Entrenamiento de perceptrones para _AND_, _OR_ y _NOT_"
   ]
  },
  {
   "cell_type": "code",
   "execution_count": 4,
   "metadata": {},
   "outputs": [],
   "source": [
    "p_and = Perceptron()\n",
    "p_or = Perceptron()\n",
    "p_not = Perceptron()"
   ]
  },
  {
   "cell_type": "code",
   "execution_count": 5,
   "metadata": {},
   "outputs": [
    {
     "name": "stderr",
     "output_type": "stream",
     "text": [
      "100%|██████████| 10/10 [00:00<00:00, 7152.63it/s]\n",
      "100%|██████████| 10/10 [00:00<00:00, 5455.65it/s]\n",
      "100%|██████████| 10/10 [00:00<00:00, 7768.67it/s]\n"
     ]
    }
   ],
   "source": [
    "p_and.fit(X, y_and)\n",
    "p_or.fit(X, y_or)\n",
    "p_not.fit(X_not, y_not)"
   ]
  },
  {
   "cell_type": "markdown",
   "metadata": {},
   "source": [
    "#### Función AND\n",
    "| x1 | x2 | AND |\n",
    "| --- | --- | --- |\n",
    "| 0 | 0 | 0 |\n",
    "| 0 | 1 | 0 |\n",
    "| 1 | 0 | 0 |\n",
    "| 1 | 1 | 1 |"
   ]
  },
  {
   "cell_type": "code",
   "execution_count": 6,
   "metadata": {},
   "outputs": [],
   "source": [
    "w_and, b_and = p_and.get_weights_and_bias()"
   ]
  },
  {
   "cell_type": "code",
   "execution_count": 7,
   "metadata": {},
   "outputs": [
    {
     "name": "stdout",
     "output_type": "stream",
     "text": [
      "\n",
      "w_1 = 2.0, w_2 = 1.0, b = -2.0\n",
      "-------------------------------\n",
      "x_1 \tx_2 \tAND(x_1,x_2)\n",
      "-------------------------------\n",
      "0.0\t0.0\t\t0.0\n",
      "0.0\t1.0\t\t0.0\n",
      "1.0\t0.0\t\t0.0\n",
      "1.0\t1.0\t\t1.0\n"
     ]
    }
   ],
   "source": [
    "print('\\nw_1 = {0}, w_2 = {1}, b = {2}'.format(w_and[0], w_and[1], b_and))\n",
    "print('-------------------------------')\n",
    "print('x_1 \\tx_2 \\tAND(x_1,x_2)')\n",
    "print('-------------------------------')\n",
    "for x in X:\n",
    "    y = p_and.predict(x)\n",
    "    x1, x2 = x\n",
    "    print('{0}\\t{1}\\t\\t{2}'.format(x1, x2, y))"
   ]
  },
  {
   "cell_type": "markdown",
   "metadata": {},
   "source": [
    "#### Función OR\n",
    "| x1 | x2 | OR |\n",
    "| --- | --- | --- |\n",
    "| 0 | 0 | 0 |\n",
    "| 0 | 1 | 1 |\n",
    "| 1 | 0 | 1 |\n",
    "| 1 | 1 | 1 |"
   ]
  },
  {
   "cell_type": "code",
   "execution_count": 8,
   "metadata": {},
   "outputs": [],
   "source": [
    "w_or, b_or = p_or.get_weights_and_bias()"
   ]
  },
  {
   "cell_type": "code",
   "execution_count": 9,
   "metadata": {},
   "outputs": [
    {
     "name": "stdout",
     "output_type": "stream",
     "text": [
      "\n",
      "w_1 = 1.0, w_2 = 1.0, b = 0.0\n",
      "-------------------------------\n",
      "x_1 \tx_2 \tOR(x_1,x_2)\n",
      "-------------------------------\n",
      "0.0\t0.0\t\t0.0\n",
      "0.0\t1.0\t\t1.0\n",
      "1.0\t0.0\t\t1.0\n",
      "1.0\t1.0\t\t1.0\n"
     ]
    }
   ],
   "source": [
    "print('\\nw_1 = {0}, w_2 = {1}, b = {2}'.format(w_or[0], w_or[1], b_or))\n",
    "print('-------------------------------')\n",
    "print('x_1 \\tx_2 \\tOR(x_1,x_2)')\n",
    "print('-------------------------------')\n",
    "for x in X:\n",
    "    y = p_or.predict(x)\n",
    "    x1, x2 = x\n",
    "    print('{0}\\t{1}\\t\\t{2}'.format(x1, x2, y))"
   ]
  },
  {
   "cell_type": "markdown",
   "metadata": {},
   "source": [
    "#### Función NOT\n",
    "| x | NOT |\n",
    "| --- | --- |\n",
    "| 0 | 1 |\n",
    "| 1 | 0 |"
   ]
  },
  {
   "cell_type": "code",
   "execution_count": 10,
   "metadata": {},
   "outputs": [],
   "source": [
    "w_not, b_not = p_not.get_weights_and_bias()"
   ]
  },
  {
   "cell_type": "code",
   "execution_count": 11,
   "metadata": {},
   "outputs": [
    {
     "name": "stdout",
     "output_type": "stream",
     "text": [
      "\n",
      "w = -1.0, b = -1.0\n",
      "-------------------------\n",
      "x \t\tNOT(x)\n",
      "-------------------------\n",
      "0.0\t\t0.0\n",
      "1.0\t\t1.0\n"
     ]
    }
   ],
   "source": [
    "print('\\nw = {0}, b = {0}'.format(w_not[0], b_not))\n",
    "print('-------------------------')\n",
    "print('x \\t\\tNOT(x)')\n",
    "print('-------------------------')\n",
    "for x in X_not:\n",
    "    y = p_not.predict(x)\n",
    "    print('{0}\\t\\t{0}'.format(x[0], y))"
   ]
  },
  {
   "cell_type": "code",
   "execution_count": 12,
   "metadata": {},
   "outputs": [],
   "source": [
    "def xnor(x):\n",
    "    y1 = p_or.predict(x)\n",
    "    y2 = p_and.predict(x)\n",
    "    y3 = p_not.predict(y1)\n",
    "    x_1 = np.array([y2, y3])\n",
    "    output = p_or.predict(x_1)\n",
    "    return output"
   ]
  },
  {
   "cell_type": "code",
   "execution_count": 13,
   "metadata": {},
   "outputs": [
    {
     "name": "stdout",
     "output_type": "stream",
     "text": [
      "-------------------------------\n",
      "x_1 \tx_2 \tXNOR(x_1,x_2)\n",
      "-------------------------------\n",
      "0.0\t0.0\t\t1.0\n",
      "0.0\t1.0\t\t0.0\n",
      "1.0\t0.0\t\t0.0\n",
      "1.0\t1.0\t\t1.0\n"
     ]
    }
   ],
   "source": [
    "print('-------------------------------')\n",
    "print('x_1 \\tx_2 \\tXNOR(x_1,x_2)')\n",
    "print('-------------------------------')\n",
    "for x in X:\n",
    "    y = xnor(x)\n",
    "    x1, x2 = x\n",
    "    print('{0}\\t{1}\\t\\t{2}'.format(x1, x2, y[0]))"
   ]
  }
 ],
 "metadata": {
  "kernelspec": {
   "display_name": "Python 3",
   "language": "python",
   "name": "python3"
  },
  "language_info": {
   "codemirror_mode": {
    "name": "ipython",
    "version": 3
   },
   "file_extension": ".py",
   "mimetype": "text/x-python",
   "name": "python",
   "nbconvert_exporter": "python",
   "pygments_lexer": "ipython3",
   "version": "3.8.6"
  }
 },
 "nbformat": 4,
 "nbformat_minor": 5
}

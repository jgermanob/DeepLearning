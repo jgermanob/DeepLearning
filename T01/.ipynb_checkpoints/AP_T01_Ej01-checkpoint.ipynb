{
 "cells": [
  {
   "cell_type": "markdown",
   "id": "66f947c7",
   "metadata": {},
   "source": [
    "# 1. Red de unidades de umbral lineal\n",
    "\n",
    "Programa y evalua una red de neuronas con funciones de activación escalon unitario que aproxime la operaión XNOR dada por:\n",
    "\n",
    "| x1 | x2 | y |\n",
    "| --- | --- | --- |\n",
    "| 0 | 0 | 1 |\n",
    "| 0 | 1 | 0 |\n",
    "| 1 | 0 | 0 |\n",
    "| 1 | 1 | 1 |\n",
    "\n",
    "La operación XNOR se puede expresar como:\n",
    "$$ XNOR(x_1,x_2) = OR(NOT(OR(x_1,x_2)),AND(x_1,x_2)) $$\n",
    "\n",
    "Por lo que se puede modelar como:\n",
    "\n",
    "<img src=\"XNOR.png\">"
   ]
  },
  {
   "cell_type": "code",
   "execution_count": 1,
   "id": "7a28c477",
   "metadata": {},
   "outputs": [],
   "source": [
    "import numpy as np\n",
    "from tqdm import tqdm"
   ]
  },
  {
   "cell_type": "code",
   "execution_count": 2,
   "id": "cbeef4ea",
   "metadata": {},
   "outputs": [],
   "source": [
    "class Perceptron:\n",
    "    # Suma ponderada con pesos y sesgo #\n",
    "    def _weighted_sum(self, x, w, b):\n",
    "        return np.dot(w.T, x) + b\n",
    "    \n",
    "    # Activación de la neurona mediante escalon unitario #\n",
    "    def _activation(self, z):\n",
    "        return np.heaviside(z,0)\n",
    "    \n",
    "    # Entrenamiento mediante regla de aprendizaje del perceptrón #\n",
    "    def fit(self, x, y, epochs=10):\n",
    "        self.w = np.zeros(x.shape[1])\n",
    "        self.b = 0\n",
    "        for i in tqdm(range(epochs)):\n",
    "            for j in range(x.shape[0]):\n",
    "                z = self._weighted_sum(x[j], self.w, self.b)\n",
    "                y_hat = self._activation(z)\n",
    "                error = y[j] - y_hat\n",
    "                self.w += error * x[j]     \n",
    "                self.b += error\n",
    "    \n",
    "    def predict(self, x):\n",
    "        y_pred = []\n",
    "        for j in range(x.shape[0]):\n",
    "            y_pred.append(self._activation(self._weighted_sum(x[j],self.w, self.b)))\n",
    "        return np.array(y_pred)\n",
    "    \n",
    "    def get_weights_and_bias(self):\n",
    "        return self.w, self.b\n",
    "    \n",
    "    def set_weights_and_bias(self, w, b):\n",
    "        self.w = w\n",
    "        self.b = b"
   ]
  },
  {
   "cell_type": "markdown",
   "id": "3be20bba",
   "metadata": {},
   "source": [
    "### Definición de entradas y salidas"
   ]
  },
  {
   "cell_type": "code",
   "execution_count": 3,
   "id": "152f8b88",
   "metadata": {},
   "outputs": [],
   "source": [
    "X = np.array([[0., 0.], [0., 1.], [1., 0.], [1., 1.]])\n",
    "X_not = np.array([[0.], [1.]])\n",
    "\n",
    "y_or = np.array([0., 1., 1., 1.])\n",
    "y_and = np.array([0., 0., 0., 1.])\n",
    "y_not = np.array([1., 0.])"
   ]
  },
  {
   "cell_type": "markdown",
   "id": "6a77fb60",
   "metadata": {},
   "source": [
    "### Entrenamiento de perceptrones para _AND_ y  _OR_"
   ]
  },
  {
   "cell_type": "code",
   "execution_count": 4,
   "id": "2b27a351",
   "metadata": {},
   "outputs": [],
   "source": [
    "p_and = Perceptron()\n",
    "p_or = Perceptron()\n",
    "p_not = Perceptron()"
   ]
  },
  {
   "cell_type": "code",
   "execution_count": 5,
   "id": "df675fa3",
   "metadata": {},
   "outputs": [
    {
     "name": "stdout",
     "output_type": "stream",
     "text": [
      "X_not[0] = [0.]\n",
      "X_not[1] = [1.]\n"
     ]
    }
   ],
   "source": [
    "for j in range(X_not.shape[0]):\n",
    "    print('X_not[{}] = {}'.format(j, X_not[j]))"
   ]
  },
  {
   "cell_type": "code",
   "execution_count": 6,
   "id": "a8ac0360",
   "metadata": {},
   "outputs": [
    {
     "name": "stderr",
     "output_type": "stream",
     "text": [
      "100%|██████████| 10/10 [00:00<00:00, 4359.53it/s]\n",
      "100%|██████████| 10/10 [00:00<00:00, 9004.52it/s]\n",
      "100%|██████████| 10/10 [00:00<00:00, 11500.70it/s]\n"
     ]
    }
   ],
   "source": [
    "p_and.fit(X, y_and)\n",
    "p_or.fit(X, y_or)\n",
    "p_not.fit(X_not, y_not)"
   ]
  },
  {
   "cell_type": "code",
   "execution_count": 11,
   "id": "28069594",
   "metadata": {},
   "outputs": [],
   "source": [
    "def xnor(x):\n",
    "    y1 = p_or.predict(x)\n",
    "    y2 = p_and.predict(x)\n",
    "    y3 = p_not.predict(y1)\n",
    "    x_1 = np.array([y2, y3])\n",
    "    output = p_or.predict(x_1)\n",
    "    return output"
   ]
  },
  {
   "cell_type": "code",
   "execution_count": null,
   "id": "585f7794",
   "metadata": {},
   "outputs": [],
   "source": []
  },
  {
   "cell_type": "code",
   "execution_count": null,
   "id": "59935efa",
   "metadata": {},
   "outputs": [],
   "source": []
  },
  {
   "cell_type": "code",
   "execution_count": null,
   "id": "8644eb37",
   "metadata": {},
   "outputs": [],
   "source": []
  },
  {
   "cell_type": "code",
   "execution_count": null,
   "id": "0ca73f56",
   "metadata": {},
   "outputs": [],
   "source": []
  },
  {
   "cell_type": "code",
   "execution_count": null,
   "id": "8b5e930e",
   "metadata": {},
   "outputs": [],
   "source": []
  }
 ],
 "metadata": {
  "kernelspec": {
   "display_name": "Python 3",
   "language": "python",
   "name": "python3"
  },
  "language_info": {
   "codemirror_mode": {
    "name": "ipython",
    "version": 3
   },
   "file_extension": ".py",
   "mimetype": "text/x-python",
   "name": "python",
   "nbconvert_exporter": "python",
   "pygments_lexer": "ipython3",
   "version": "3.8.10"
  }
 },
 "nbformat": 4,
 "nbformat_minor": 5
}

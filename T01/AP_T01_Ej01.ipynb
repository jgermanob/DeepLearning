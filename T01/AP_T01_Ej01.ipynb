{
  "nbformat": 4,
  "nbformat_minor": 5,
  "metadata": {
    "kernelspec": {
      "display_name": "Python 3",
      "language": "python",
      "name": "python3"
    },
    "language_info": {
      "codemirror_mode": {
        "name": "ipython",
        "version": 3
      },
      "file_extension": ".py",
      "mimetype": "text/x-python",
      "name": "python",
      "nbconvert_exporter": "python",
      "pygments_lexer": "ipython3",
      "version": "3.8.6"
    },
    "colab": {
      "name": "AP_T01_Ej01.ipynb",
      "provenance": [],
      "collapsed_sections": [],
      "include_colab_link": true
    }
  },
  "cells": [
    {
      "cell_type": "markdown",
      "metadata": {
        "id": "view-in-github",
        "colab_type": "text"
      },
      "source": [
        "<a href=\"https://colab.research.google.com/github/jgermanob/DeepLearning/blob/master/T01/AP_T01_Ej01.ipynb\" target=\"_parent\"><img src=\"https://colab.research.google.com/assets/colab-badge.svg\" alt=\"Open In Colab\"/></a>"
      ]
    },
    {
      "cell_type": "markdown",
      "metadata": {
        "id": "t1aV47lkB9Uy"
      },
      "source": [
        "# 1. Red de unidades de umbral lineal\n",
        "\n",
        "Programa y evalua una red de neuronas con funciones de activación escalon unitario que aproxime la operaión XNOR dada por:\n",
        "\n",
        "| x1 | x2 | XNOR |\n",
        "| --- | --- | --- |\n",
        "| 0 | 0 | 1 |\n",
        "| 0 | 1 | 0 |\n",
        "| 1 | 0 | 0 |\n",
        "| 1 | 1 | 1 |\n",
        "\n",
        "La operación XNOR se puede expresar como:\n",
        "$$ XNOR(x_1,x_2) = OR(NOT(OR(x_1,x_2)),AND(x_1,x_2)) $$\n",
        "\n",
        "Por lo que se puede modelar como:\n",
        "\n",
        "<img src=\"https://media.geeksforgeeks.org/wp-content/uploads/20200518230148/XN_p.png\">"
      ],
      "id": "t1aV47lkB9Uy"
    },
    {
      "cell_type": "code",
      "metadata": {
        "id": "Un2tRbiJB9U6"
      },
      "source": [
        "import numpy as np\n",
        "from tqdm import tqdm"
      ],
      "id": "Un2tRbiJB9U6",
      "execution_count": null,
      "outputs": []
    },
    {
      "cell_type": "code",
      "metadata": {
        "id": "nnzLs_CKB9U8"
      },
      "source": [
        "class Perceptron:\n",
        "    # Suma ponderada con pesos y sesgo #\n",
        "    def _weighted_sum(self, x, w, b):\n",
        "        return np.dot(w.T, x) + b\n",
        "    \n",
        "    # Activación de la neurona mediante escalon unitario #\n",
        "    def _activation(self, z):\n",
        "        return np.heaviside(z,0)\n",
        "    \n",
        "    # Entrenamiento mediante regla de aprendizaje del perceptrón #\n",
        "    def fit(self, x, y, epochs=10):\n",
        "        self.w = np.zeros(x.shape[1])\n",
        "        self.b = 0\n",
        "        for i in tqdm(range(epochs)):\n",
        "            for j in range(x.shape[0]):\n",
        "                z = self._weighted_sum(x[j], self.w, self.b)\n",
        "                y_hat = self._activation(z)\n",
        "                error = y[j] - y_hat\n",
        "                self.w += error * x[j]     \n",
        "                self.b += error\n",
        "    \n",
        "    def predict(self, x):\n",
        "        return self._activation(self._weighted_sum(x, self.w, self.b))\n",
        "    \n",
        "    def get_weights_and_bias(self):\n",
        "        return self.w, self.b"
      ],
      "id": "nnzLs_CKB9U8",
      "execution_count": null,
      "outputs": []
    },
    {
      "cell_type": "markdown",
      "metadata": {
        "id": "YnfduKG_B9U8"
      },
      "source": [
        "### Definición de entradas y salidas"
      ],
      "id": "YnfduKG_B9U8"
    },
    {
      "cell_type": "code",
      "metadata": {
        "id": "DraENV52B9U9"
      },
      "source": [
        "X = np.array([[0., 0.], [0., 1.], [1., 0.], [1., 1.]])\n",
        "X_not = np.array([[0.], [1.]])\n",
        "\n",
        "y_or = np.array([0., 1., 1., 1.])\n",
        "y_and = np.array([0., 0., 0., 1.])\n",
        "y_not = np.array([1., 0.])\n",
        "y_xnor = np.array([1., 0., 0., 1.])"
      ],
      "id": "DraENV52B9U9",
      "execution_count": null,
      "outputs": []
    },
    {
      "cell_type": "markdown",
      "metadata": {
        "id": "f1bKpQLeB9U9"
      },
      "source": [
        "### Entrenamiento de perceptrones para _AND_, _OR_ y _NOT_"
      ],
      "id": "f1bKpQLeB9U9"
    },
    {
      "cell_type": "code",
      "metadata": {
        "id": "9QDZv0lEB9U9"
      },
      "source": [
        "p_and = Perceptron()\n",
        "p_or = Perceptron()\n",
        "p_not = Perceptron()"
      ],
      "id": "9QDZv0lEB9U9",
      "execution_count": null,
      "outputs": []
    },
    {
      "cell_type": "code",
      "metadata": {
        "id": "sP7nTn9nB9U-",
        "colab": {
          "base_uri": "https://localhost:8080/"
        },
        "outputId": "0c2cacbc-4df3-4ccf-afd3-9fb917c7de60"
      },
      "source": [
        "p_and.fit(X, y_and)\n",
        "p_or.fit(X, y_or)\n",
        "p_not.fit(X_not, y_not)"
      ],
      "id": "sP7nTn9nB9U-",
      "execution_count": null,
      "outputs": [
        {
          "output_type": "stream",
          "name": "stderr",
          "text": [
            "100%|██████████| 10/10 [00:00<00:00, 10658.97it/s]\n",
            "100%|██████████| 10/10 [00:00<00:00, 1993.02it/s]\n",
            "100%|██████████| 10/10 [00:00<00:00, 10323.17it/s]\n"
          ]
        }
      ]
    },
    {
      "cell_type": "markdown",
      "metadata": {
        "id": "tIFXVKFwB9U_"
      },
      "source": [
        "#### Función AND\n",
        "| x1 | x2 | AND |\n",
        "| --- | --- | --- |\n",
        "| 0 | 0 | 0 |\n",
        "| 0 | 1 | 0 |\n",
        "| 1 | 0 | 0 |\n",
        "| 1 | 1 | 1 |"
      ],
      "id": "tIFXVKFwB9U_"
    },
    {
      "cell_type": "code",
      "metadata": {
        "id": "JftQTyd9B9VA"
      },
      "source": [
        "w_and, b_and = p_and.get_weights_and_bias()"
      ],
      "id": "JftQTyd9B9VA",
      "execution_count": null,
      "outputs": []
    },
    {
      "cell_type": "code",
      "metadata": {
        "id": "-CiaZhThB9VA",
        "colab": {
          "base_uri": "https://localhost:8080/"
        },
        "outputId": "7cd2ad1a-d6cc-4f02-994d-c8eea62e11de"
      },
      "source": [
        "print('\\nw_1 = {0}, w_2 = {1}, b = {2}'.format(w_and[0], w_and[1], b_and))\n",
        "print('-------------------------------')\n",
        "print('x_1 \\tx_2 \\tAND(x_1,x_2)')\n",
        "print('-------------------------------')\n",
        "for x in X:\n",
        "    y = p_and.predict(x)\n",
        "    x1, x2 = x\n",
        "    print('{0}\\t{1}\\t\\t{2}'.format(x1, x2, y))"
      ],
      "id": "-CiaZhThB9VA",
      "execution_count": null,
      "outputs": [
        {
          "output_type": "stream",
          "name": "stdout",
          "text": [
            "\n",
            "w_1 = 2.0, w_2 = 1.0, b = -2.0\n",
            "-------------------------------\n",
            "x_1 \tx_2 \tAND(x_1,x_2)\n",
            "-------------------------------\n",
            "0.0\t0.0\t\t0.0\n",
            "0.0\t1.0\t\t0.0\n",
            "1.0\t0.0\t\t0.0\n",
            "1.0\t1.0\t\t1.0\n"
          ]
        }
      ]
    },
    {
      "cell_type": "markdown",
      "metadata": {
        "id": "wezFx0KRB9VA"
      },
      "source": [
        "#### Función OR\n",
        "| x1 | x2 | OR |\n",
        "| --- | --- | --- |\n",
        "| 0 | 0 | 0 |\n",
        "| 0 | 1 | 1 |\n",
        "| 1 | 0 | 1 |\n",
        "| 1 | 1 | 1 |"
      ],
      "id": "wezFx0KRB9VA"
    },
    {
      "cell_type": "code",
      "metadata": {
        "id": "NwohMPW5B9VB"
      },
      "source": [
        "w_or, b_or = p_or.get_weights_and_bias()"
      ],
      "id": "NwohMPW5B9VB",
      "execution_count": null,
      "outputs": []
    },
    {
      "cell_type": "code",
      "metadata": {
        "id": "Stp4PGQRB9VB",
        "colab": {
          "base_uri": "https://localhost:8080/"
        },
        "outputId": "4616af10-f9f9-4302-cfbb-350daf21f7dc"
      },
      "source": [
        "print('\\nw_1 = {0}, w_2 = {1}, b = {2}'.format(w_or[0], w_or[1], b_or))\n",
        "print('-------------------------------')\n",
        "print('x_1 \\tx_2 \\tOR(x_1,x_2)')\n",
        "print('-------------------------------')\n",
        "for x in X:\n",
        "    y = p_or.predict(x)\n",
        "    x1, x2 = x\n",
        "    print('{0}\\t{1}\\t\\t{2}'.format(x1, x2, y))"
      ],
      "id": "Stp4PGQRB9VB",
      "execution_count": null,
      "outputs": [
        {
          "output_type": "stream",
          "name": "stdout",
          "text": [
            "\n",
            "w_1 = 1.0, w_2 = 1.0, b = 0.0\n",
            "-------------------------------\n",
            "x_1 \tx_2 \tOR(x_1,x_2)\n",
            "-------------------------------\n",
            "0.0\t0.0\t\t0.0\n",
            "0.0\t1.0\t\t1.0\n",
            "1.0\t0.0\t\t1.0\n",
            "1.0\t1.0\t\t1.0\n"
          ]
        }
      ]
    },
    {
      "cell_type": "markdown",
      "metadata": {
        "id": "Jt34cNqRB9VB"
      },
      "source": [
        "#### Función NOT\n",
        "| x | NOT |\n",
        "| --- | --- |\n",
        "| 0 | 1 |\n",
        "| 1 | 0 |"
      ],
      "id": "Jt34cNqRB9VB"
    },
    {
      "cell_type": "code",
      "metadata": {
        "id": "lZQ7FkulB9VC"
      },
      "source": [
        "w_not, b_not = p_not.get_weights_and_bias()"
      ],
      "id": "lZQ7FkulB9VC",
      "execution_count": null,
      "outputs": []
    },
    {
      "cell_type": "code",
      "metadata": {
        "id": "3lGBRoCOB9VC",
        "colab": {
          "base_uri": "https://localhost:8080/"
        },
        "outputId": "e19ebb48-979d-4158-f2bb-d498bca8e3b2"
      },
      "source": [
        "print('\\nw = {0}, b = {0}'.format(w_not[0], b_not))\n",
        "print('-------------------------')\n",
        "print('x \\t\\tNOT(x)')\n",
        "print('-------------------------')\n",
        "for x in X_not:\n",
        "    y = p_not.predict(x)\n",
        "    print('{0}\\t\\t{0}'.format(x[0], y))"
      ],
      "id": "3lGBRoCOB9VC",
      "execution_count": null,
      "outputs": [
        {
          "output_type": "stream",
          "name": "stdout",
          "text": [
            "\n",
            "w = -1.0, b = -1.0\n",
            "-------------------------\n",
            "x \t\tNOT(x)\n",
            "-------------------------\n",
            "0.0\t\t0.0\n",
            "1.0\t\t1.0\n"
          ]
        }
      ]
    },
    {
      "cell_type": "markdown",
      "metadata": {
        "id": "tsCJ75J5B9VD"
      },
      "source": [
        "### Definición de la función _XNOR_ con base en los perceptrones _AND_, _OR_ y _NOT_"
      ],
      "id": "tsCJ75J5B9VD"
    },
    {
      "cell_type": "code",
      "metadata": {
        "id": "3sYp8q1ZB9VE"
      },
      "source": [
        "def xnor(x):\n",
        "    y1 = p_or.predict(x)\n",
        "    y2 = p_and.predict(x)\n",
        "    y3 = p_not.predict(y1)\n",
        "    x_1 = np.array([y2, y3])\n",
        "    output = p_or.predict(x_1)\n",
        "    return output"
      ],
      "id": "3sYp8q1ZB9VE",
      "execution_count": null,
      "outputs": []
    },
    {
      "cell_type": "code",
      "metadata": {
        "id": "22-ihyqXB9VE",
        "colab": {
          "base_uri": "https://localhost:8080/"
        },
        "outputId": "db6178b9-f1bb-45b7-c951-47d754e64201"
      },
      "source": [
        "print('-------------------------------')\n",
        "print('x_1 \\tx_2 \\tXNOR(x_1,x_2)')\n",
        "print('-------------------------------')\n",
        "for x in X:\n",
        "    y = xnor(x)\n",
        "    x1, x2 = x\n",
        "    print('{0}\\t{1}\\t\\t{2}'.format(x1, x2, y[0]))"
      ],
      "id": "22-ihyqXB9VE",
      "execution_count": null,
      "outputs": [
        {
          "output_type": "stream",
          "name": "stdout",
          "text": [
            "-------------------------------\n",
            "x_1 \tx_2 \tXNOR(x_1,x_2)\n",
            "-------------------------------\n",
            "0.0\t0.0\t\t1.0\n",
            "0.0\t1.0\t\t0.0\n",
            "1.0\t0.0\t\t0.0\n",
            "1.0\t1.0\t\t1.0\n"
          ]
        },
        {
          "output_type": "stream",
          "name": "stderr",
          "text": [
            "/usr/local/lib/python3.7/dist-packages/ipykernel_launcher.py:5: VisibleDeprecationWarning: Creating an ndarray from ragged nested sequences (which is a list-or-tuple of lists-or-tuples-or ndarrays with different lengths or shapes) is deprecated. If you meant to do this, you must specify 'dtype=object' when creating the ndarray\n",
            "  \"\"\"\n"
          ]
        }
      ]
    }
  ]
}